{
 "cells": [
  {
   "cell_type": "code",
   "execution_count": 1,
   "metadata": {
    "collapsed": true
   },
   "outputs": [],
   "source": [
    "import pandas as pd\n",
    "import numpy as np\n",
    "import pylab as pl\n",
    "import matplotlib.pyplot as plt\n",
    "%matplotlib inline\n",
    "from pandas.tools.plotting import scatter_matrix\n",
    "from sklearn.cross_validation import train_test_split\n",
    "from sklearn import cross_validation\n",
    "from sklearn import metrics\n",
    "from sklearn import preprocessing\n",
    "from sklearn.grid_search import GridSearchCV\n",
    "from sklearn.ensemble import RandomForestClassifier\n",
    "from sklearn.ensemble import AdaBoostClassifier\n",
    "from sklearn.ensemble import ExtraTreesClassifier"
   ]
  },
  {
   "cell_type": "code",
   "execution_count": 2,
   "metadata": {
    "collapsed": true
   },
   "outputs": [],
   "source": [
    "#load data\n",
    "water_train = pd.read_csv(\"C:\\Datasets\\water_train.csv\")#, index_col=0)\n",
    "water_test = pd.read_csv(\"C:\\Datasets\\water_test.csv\")#, index_col=0)\n",
    "water_records_trans2 = pd.read_csv(\"C:\\Datasets\\water_records_trans2.csv\")#, index_col=0)\n",
    "watertest_records_trans2 = pd.read_csv(\"C:\\Datasets\\watertest_records_trans2.csv\")#, index_col=0)\n",
    "water_target = pd.read_csv(\"C:\\Datasets\\water_training_labels.csv\")\n",
    "water_target = water_target.drop('id', 1)"
   ]
  },
  {
   "cell_type": "code",
   "execution_count": 3,
   "metadata": {
    "collapsed": false
   },
   "outputs": [
    {
     "data": {
      "image/png": "[encoded data removed]",
      "text/plain": [
       "<matplotlib.figure.Figure at 0x18406e80>"
      ]
     },
     "metadata": {},
     "output_type": "display_data"
    }
   ],
   "source": [
    "plt.show(water_target[\"status_group\"].value_counts().plot(kind='bar', title=\"Class Distribution\"))"
   ]
  },
  {
   "cell_type": "code",
   "execution_count": 4,
   "metadata": {
    "collapsed": false
   },
   "outputs": [
    {
     "data": {
      "text/plain": [
       "functional                 32259\n",
       "non functional             22824\n",
       "functional needs repair     4317\n",
       "dtype: int64"
      ]
     },
     "execution_count": 4,
     "metadata": {},
     "output_type": "execute_result"
    }
   ],
   "source": [
    "water_target[\"status_group\"].value_counts()"
   ]
  },
  {
   "cell_type": "markdown",
   "metadata": {
    "collapsed": true
   },
   "source": [
    "Class Distribution:\n",
    "\n",
    "functional: 32259/59400 (54.308%)\n",
    "\n",
    "non-functional: 22824/59400 (38.424%)\n",
    "\n",
    "functional needs repair: 4317/59400 (7.268%)"
   ]
  },
  {
   "cell_type": "code",
   "execution_count": 6,
   "metadata": {
    "collapsed": true
   },
   "outputs": [],
   "source": [
    "water_train_ssf=pd.get_dummies(water_train)\n",
    "water_test_ssf=pd.get_dummies(water_test)"
   ]
  },
  {
   "cell_type": "code",
   "execution_count": 7,
   "metadata": {
    "collapsed": false
   },
   "outputs": [
    {
     "data": {
      "text/plain": [
       "array(['functional', 'functional', 'functional', ..., 'functional',\n",
       "       'functional', 'functional'], dtype=object)"
      ]
     },
     "execution_count": 7,
     "metadata": {},
     "output_type": "execute_result"
    }
   ],
   "source": [
    "water_target_array=np.array(water_target)\n",
    "water_target_array=water_target_array.squeeze()\n",
    "water_target_array"
   ]
  },
  {
   "cell_type": "code",
   "execution_count": 8,
   "metadata": {
    "collapsed": true
   },
   "outputs": [],
   "source": [
    "#Model Construction"
   ]
  },
  {
   "cell_type": "code",
   "execution_count": 9,
   "metadata": {
    "collapsed": false
   },
   "outputs": [
    {
     "name": "stdout",
     "output_type": "stream",
     "text": [
      "(39204, 225) (20196, 225) (39204L,) (20196L,)\n"
     ]
    }
   ],
   "source": [
    "water_train2, water_test2, water_target_train, water_target_test = train_test_split(water_train_ssf, water_target_array, test_size=0.34)\n",
    "print water_train2.shape, water_test2.shape, water_target_train.shape, water_target_test.shape \n",
    "#water_train2, water_test2, water_target_train, water_target_test = train_test_split(water_records_trans2, water_target, test_size=0.34)\n",
    "#print water_train2.shape, water_test2.shape, water_target_train.shape, water_target_test.shape \n"
   ]
  },
  {
   "cell_type": "code",
   "execution_count": 10,
   "metadata": {
    "collapsed": false
   },
   "outputs": [
    {
     "data": {
      "text/html": [
       "<div>\n",
       "<table border=\"1\" class=\"dataframe\">\n",
       "  <thead>\n",
       "    <tr style=\"text-align: right;\">\n",
       "      <th></th>\n",
       "      <th>amount_tsh</th>\n",
       "      <th>gps_height</th>\n",
       "      <th>longitude</th>\n",
       "      <th>latitude</th>\n",
       "      <th>population</th>\n",
       "      <th>days_frm_20131213</th>\n",
       "      <th>Month_Recorded</th>\n",
       "      <th>funder_0</th>\n",
       "      <th>funder_Danida</th>\n",
       "      <th>funder_Dhv</th>\n",
       "      <th>...</th>\n",
       "      <th>Construction_Year_Str_2004</th>\n",
       "      <th>Construction_Year_Str_2005</th>\n",
       "      <th>Construction_Year_Str_2006</th>\n",
       "      <th>Construction_Year_Str_2007</th>\n",
       "      <th>Construction_Year_Str_2008</th>\n",
       "      <th>Construction_Year_Str_2009</th>\n",
       "      <th>Construction_Year_Str_2010</th>\n",
       "      <th>Construction_Year_Str_2011</th>\n",
       "      <th>Construction_Year_Str_2012</th>\n",
       "      <th>Construction_Year_Str_Other</th>\n",
       "    </tr>\n",
       "  </thead>\n",
       "  <tbody>\n",
       "    <tr>\n",
       "      <th>57639</th>\n",
       "      <td>0</td>\n",
       "      <td>0</td>\n",
       "      <td>32.842600</td>\n",
       "      <td>-4.883742</td>\n",
       "      <td>0</td>\n",
       "      <td>365</td>\n",
       "      <td>12</td>\n",
       "      <td>0</td>\n",
       "      <td>0</td>\n",
       "      <td>0</td>\n",
       "      <td>...</td>\n",
       "      <td>0</td>\n",
       "      <td>0</td>\n",
       "      <td>0</td>\n",
       "      <td>0</td>\n",
       "      <td>0</td>\n",
       "      <td>0</td>\n",
       "      <td>0</td>\n",
       "      <td>0</td>\n",
       "      <td>0</td>\n",
       "      <td>1</td>\n",
       "    </tr>\n",
       "    <tr>\n",
       "      <th>14140</th>\n",
       "      <td>0</td>\n",
       "      <td>716</td>\n",
       "      <td>37.354658</td>\n",
       "      <td>-3.477799</td>\n",
       "      <td>1</td>\n",
       "      <td>223</td>\n",
       "      <td>5</td>\n",
       "      <td>0</td>\n",
       "      <td>0</td>\n",
       "      <td>0</td>\n",
       "      <td>...</td>\n",
       "      <td>0</td>\n",
       "      <td>0</td>\n",
       "      <td>0</td>\n",
       "      <td>0</td>\n",
       "      <td>0</td>\n",
       "      <td>0</td>\n",
       "      <td>0</td>\n",
       "      <td>0</td>\n",
       "      <td>0</td>\n",
       "      <td>1</td>\n",
       "    </tr>\n",
       "    <tr>\n",
       "      <th>14052</th>\n",
       "      <td>0</td>\n",
       "      <td>0</td>\n",
       "      <td>34.068569</td>\n",
       "      <td>-3.559637</td>\n",
       "      <td>0</td>\n",
       "      <td>423</td>\n",
       "      <td>10</td>\n",
       "      <td>0</td>\n",
       "      <td>0</td>\n",
       "      <td>0</td>\n",
       "      <td>...</td>\n",
       "      <td>0</td>\n",
       "      <td>0</td>\n",
       "      <td>0</td>\n",
       "      <td>0</td>\n",
       "      <td>0</td>\n",
       "      <td>0</td>\n",
       "      <td>0</td>\n",
       "      <td>0</td>\n",
       "      <td>0</td>\n",
       "      <td>1</td>\n",
       "    </tr>\n",
       "    <tr>\n",
       "      <th>35891</th>\n",
       "      <td>1000</td>\n",
       "      <td>1928</td>\n",
       "      <td>35.152189</td>\n",
       "      <td>-8.589340</td>\n",
       "      <td>0</td>\n",
       "      <td>1003</td>\n",
       "      <td>3</td>\n",
       "      <td>0</td>\n",
       "      <td>1</td>\n",
       "      <td>0</td>\n",
       "      <td>...</td>\n",
       "      <td>0</td>\n",
       "      <td>0</td>\n",
       "      <td>0</td>\n",
       "      <td>0</td>\n",
       "      <td>0</td>\n",
       "      <td>0</td>\n",
       "      <td>0</td>\n",
       "      <td>0</td>\n",
       "      <td>0</td>\n",
       "      <td>1</td>\n",
       "    </tr>\n",
       "    <tr>\n",
       "      <th>1731</th>\n",
       "      <td>500</td>\n",
       "      <td>508</td>\n",
       "      <td>34.650712</td>\n",
       "      <td>-11.064397</td>\n",
       "      <td>90</td>\n",
       "      <td>102</td>\n",
       "      <td>9</td>\n",
       "      <td>0</td>\n",
       "      <td>0</td>\n",
       "      <td>0</td>\n",
       "      <td>...</td>\n",
       "      <td>0</td>\n",
       "      <td>0</td>\n",
       "      <td>0</td>\n",
       "      <td>0</td>\n",
       "      <td>0</td>\n",
       "      <td>0</td>\n",
       "      <td>0</td>\n",
       "      <td>0</td>\n",
       "      <td>1</td>\n",
       "      <td>0</td>\n",
       "    </tr>\n",
       "  </tbody>\n",
       "</table>\n",
       "<p>5 rows × 225 columns</p>\n",
       "</div>"
      ],
      "text/plain": [
       "       amount_tsh  gps_height  longitude   latitude  population  \\\n",
       "57639           0           0  32.842600  -4.883742           0   \n",
       "14140           0         716  37.354658  -3.477799           1   \n",
       "14052           0           0  34.068569  -3.559637           0   \n",
       "35891        1000        1928  35.152189  -8.589340           0   \n",
       "1731          500         508  34.650712 -11.064397          90   \n",
       "\n",
       "       days_frm_20131213  Month_Recorded  funder_0  funder_Danida  funder_Dhv  \\\n",
       "57639                365              12         0              0           0   \n",
       "14140                223               5         0              0           0   \n",
       "14052                423              10         0              0           0   \n",
       "35891               1003               3         0              1           0   \n",
       "1731                 102               9         0              0           0   \n",
       "\n",
       "                  ...               Construction_Year_Str_2004  \\\n",
       "57639             ...                                        0   \n",
       "14140             ...                                        0   \n",
       "14052             ...                                        0   \n",
       "35891             ...                                        0   \n",
       "1731              ...                                        0   \n",
       "\n",
       "       Construction_Year_Str_2005  Construction_Year_Str_2006  \\\n",
       "57639                           0                           0   \n",
       "14140                           0                           0   \n",
       "14052                           0                           0   \n",
       "35891                           0                           0   \n",
       "1731                            0                           0   \n",
       "\n",
       "       Construction_Year_Str_2007  Construction_Year_Str_2008  \\\n",
       "57639                           0                           0   \n",
       "14140                           0                           0   \n",
       "14052                           0                           0   \n",
       "35891                           0                           0   \n",
       "1731                            0                           0   \n",
       "\n",
       "       Construction_Year_Str_2009  Construction_Year_Str_2010  \\\n",
       "57639                           0                           0   \n",
       "14140                           0                           0   \n",
       "14052                           0                           0   \n",
       "35891                           0                           0   \n",
       "1731                            0                           0   \n",
       "\n",
       "       Construction_Year_Str_2011  Construction_Year_Str_2012  \\\n",
       "57639                           0                           0   \n",
       "14140                           0                           0   \n",
       "14052                           0                           0   \n",
       "35891                           0                           0   \n",
       "1731                            0                           1   \n",
       "\n",
       "       Construction_Year_Str_Other  \n",
       "57639                            1  \n",
       "14140                            1  \n",
       "14052                            1  \n",
       "35891                            1  \n",
       "1731                             0  \n",
       "\n",
       "[5 rows x 225 columns]"
      ]
     },
     "execution_count": 10,
     "metadata": {},
     "output_type": "execute_result"
    }
   ],
   "source": [
    "water_train2.head(5)"
   ]
  },
  {
   "cell_type": "code",
   "execution_count": 11,
   "metadata": {
    "collapsed": false
   },
   "outputs": [
    {
     "data": {
      "text/plain": [
       "(39204L,)"
      ]
     },
     "execution_count": 11,
     "metadata": {},
     "output_type": "execute_result"
    }
   ],
   "source": [
    "water_target_train_np=np.array(water_target_train)\n",
    "water_target_train_np=np.squeeze(water_target_train_np)\n",
    "water_target_train_np.shape"
   ]
  },
  {
   "cell_type": "code",
   "execution_count": 12,
   "metadata": {
    "collapsed": false
   },
   "outputs": [
    {
     "data": {
      "text/plain": [
       "array(['non functional', 'non functional', 'functional', ...,\n",
       "       'non functional', 'functional', 'functional'], dtype=object)"
      ]
     },
     "execution_count": 12,
     "metadata": {},
     "output_type": "execute_result"
    }
   ],
   "source": [
    "water_target_train_np"
   ]
  },
  {
   "cell_type": "code",
   "execution_count": 13,
   "metadata": {
    "collapsed": false
   },
   "outputs": [
    {
     "data": {
      "text/plain": [
       "(20196L,)"
      ]
     },
     "execution_count": 13,
     "metadata": {},
     "output_type": "execute_result"
    }
   ],
   "source": [
    "water_target_test_np=np.array(water_target_test)\n",
    "water_target_test_np=np.squeeze(water_target_test_np)\n",
    "water_target_test_np.shape"
   ]
  },
  {
   "cell_type": "code",
   "execution_count": 24,
   "metadata": {
    "collapsed": false
   },
   "outputs": [
    {
     "data": {
      "text/plain": [
       "{'bootstrap': True,\n",
       " 'class_weight': None,\n",
       " 'criterion': 'gini',\n",
       " 'max_depth': None,\n",
       " 'max_features': 'auto',\n",
       " 'max_leaf_nodes': None,\n",
       " 'min_samples_leaf': 1,\n",
       " 'min_samples_split': 2,\n",
       " 'min_weight_fraction_leaf': 0.0,\n",
       " 'n_estimators': 10,\n",
       " 'n_jobs': 1,\n",
       " 'oob_score': False,\n",
       " 'random_state': None,\n",
       " 'verbose': 0,\n",
       " 'warm_start': False}"
      ]
     },
     "execution_count": 24,
     "metadata": {},
     "output_type": "execute_result"
    }
   ],
   "source": [
    "#random forest\n",
    "#Grid search using Random Forest\n",
    "rf = RandomForestClassifier()\n",
    "rf.get_params()"
   ]
  },
  {
   "cell_type": "code",
   "execution_count": 22,
   "metadata": {
    "collapsed": false
   },
   "outputs": [],
   "source": [
    "rfparameters = {\n",
    "    'criterion': ['entropy', 'gini'],\n",
    "    'n_estimators': range(50, 501, 50),\n",
    "    'min_samples_split': range(120, 271, 10),\n",
    "    'min_samples_leaf' : range(60,131,10)\n",
    "}\n",
    "\n",
    "rf_gs = GridSearchCV(rf, rfparameters, verbose=1, cv=5)\n",
    "#'max_depth': np.linspace(1, 20, 10),\n"
   ]
  },
  {
   "cell_type": "code",
   "execution_count": null,
   "metadata": {
    "collapsed": false
   },
   "outputs": [],
   "source": [
    "%time _ = rf_gs.fit(water_train2, water_target_train_np)\n",
    "rf_gs.best_params_, rf_gs.best_score_"
   ]
  },
  {
   "cell_type": "markdown",
   "metadata": {},
   "source": [
    "Ideally, a grid search would be implemented to explore how the adjustment of various parameter values affects performance metrics, but let's just try some values for now."
   ]
  },
  {
   "cell_type": "code",
   "execution_count": 18,
   "metadata": {
    "collapsed": false
   },
   "outputs": [
    {
     "name": "stdout",
     "output_type": "stream",
     "text": [
      "Accuracy:0.99862 \n",
      "\n",
      "Classification report\n",
      "             precision    recall  f1-score   support\n",
      "\n",
      " functional       1.00      1.00      1.00     21188\n",
      "functional needs repair       0.99      0.99      0.99      2873\n",
      "non functional       1.00      1.00      1.00     15143\n",
      "\n",
      "avg / total       1.00      1.00      1.00     39204\n",
      "\n",
      "\n",
      "Confussion matrix\n",
      "[[21172    12     4]\n",
      " [   22  2851     0]\n",
      " [   11     5 15127]] \n",
      "\n"
     ]
    }
   ],
   "source": [
    "rf = RandomForestClassifier(criterion=\"entropy\", n_estimators=500)\n",
    "#criterion='entropy',max_depth=3,min_samples_split=6, \n",
    "rf.fit(water_train2, water_target_train_np)\n",
    "rf_predictions=rf.predict(water_train2)\n",
    "print \"Accuracy:{0:.5f}\".format(metrics.accuracy_score(water_target_train_np, rf_predictions)),\"\\n\"\n",
    "print \"Classification report\"\n",
    "print metrics.classification_report(water_target_train_np, rf_predictions),\"\\n\"\n",
    "print \"Confussion matrix\"\n",
    "print metrics.confusion_matrix(water_target_train_np, rf_predictions),\"\\n\""
   ]
  },
  {
   "cell_type": "code",
   "execution_count": 19,
   "metadata": {
    "collapsed": false
   },
   "outputs": [
    {
     "name": "stdout",
     "output_type": "stream",
     "text": [
      "Accuracy:0.80011 \n",
      "\n",
      "Classification report\n",
      "             precision    recall  f1-score   support\n",
      "\n",
      " functional       0.81      0.87      0.84     11071\n",
      "functional needs repair       0.51      0.36      0.42      1444\n",
      "non functional       0.83      0.78      0.80      7681\n",
      "\n",
      "avg / total       0.79      0.80      0.80     20196\n",
      "\n",
      "\n",
      "Confussion matrix\n",
      "[[9671  353 1047]\n",
      " [ 708  523  213]\n",
      " [1558  158 5965]] \n",
      "\n"
     ]
    }
   ],
   "source": [
    "rf = RandomForestClassifier(criterion='entropy', n_estimators=500)\n",
    "#,max_depth=3,min_samples_split=6, \n",
    "rf.fit(water_train2, water_target_train_np)\n",
    "rf_predictions=rf.predict(water_test2)\n",
    "print \"Accuracy:{0:.5f}\".format(metrics.accuracy_score(water_target_test_np, rf_predictions)),\"\\n\"\n",
    "print \"Classification report\"\n",
    "print metrics.classification_report(water_target_test_np, rf_predictions),\"\\n\"\n",
    "print \"Confussion matrix\"\n",
    "print metrics.confusion_matrix(water_target_test_np, rf_predictions),\"\\n\""
   ]
  },
  {
   "cell_type": "code",
   "execution_count": 20,
   "metadata": {
    "collapsed": false
   },
   "outputs": [
    {
     "name": "stdout",
     "output_type": "stream",
     "text": [
      "Accuracy:0.99862 \n",
      "\n",
      "Classification report\n",
      "             precision    recall  f1-score   support\n",
      "\n",
      " functional       1.00      1.00      1.00     21188\n",
      "functional needs repair       1.00      0.99      0.99      2873\n",
      "non functional       1.00      1.00      1.00     15143\n",
      "\n",
      "avg / total       1.00      1.00      1.00     39204\n",
      "\n",
      "\n",
      "Confussion matrix\n",
      "[[21183     5     0]\n",
      " [   29  2844     0]\n",
      " [   16     4 15123]] \n",
      "\n"
     ]
    }
   ],
   "source": [
    "ex = ExtraTreesClassifier(criterion=\"entropy\", n_estimators=500)\n",
    "ex.fit(water_train2, water_target_train_np)\n",
    "ex_predictions=ex.predict(water_train2)\n",
    "print \"Accuracy:{0:.5f}\".format(metrics.accuracy_score(water_target_train_np, ex_predictions)),\"\\n\"\n",
    "print \"Classification report\"\n",
    "print metrics.classification_report(water_target_train_np, ex_predictions),\"\\n\"\n",
    "print \"Confussion matrix\"\n",
    "print metrics.confusion_matrix(water_target_train_np, ex_predictions),\"\\n\""
   ]
  },
  {
   "cell_type": "code",
   "execution_count": 21,
   "metadata": {
    "collapsed": false
   },
   "outputs": [
    {
     "name": "stdout",
     "output_type": "stream",
     "text": [
      "Accuracy:0.78783 \n",
      "\n",
      "Classification report\n",
      "             precision    recall  f1-score   support\n",
      "\n",
      " functional       0.81      0.85      0.83     11071\n",
      "functional needs repair       0.46      0.37      0.41      1444\n",
      "non functional       0.80      0.78      0.79      7681\n",
      "\n",
      "avg / total       0.78      0.79      0.78     20196\n",
      "\n",
      "\n",
      "Confussion matrix\n",
      "[[9400  439 1232]\n",
      " [ 664  537  243]\n",
      " [1525  182 5974]] \n",
      "\n"
     ]
    }
   ],
   "source": [
    "ex = ExtraTreesClassifier(criterion=\"entropy\", n_estimators=500)\n",
    "ex.fit(water_train2, water_target_train_np)\n",
    "ex_predictions=ex.predict(water_test2)\n",
    "print \"Accuracy:{0:.5f}\".format(metrics.accuracy_score(water_target_test_np, ex_predictions)),\"\\n\"\n",
    "print \"Classification report\"\n",
    "print metrics.classification_report(water_target_test_np, ex_predictions),\"\\n\"\n",
    "print \"Confussion matrix\"\n",
    "print metrics.confusion_matrix(water_target_test_np, ex_predictions),\"\\n\""
   ]
  },
  {
   "cell_type": "code",
   "execution_count": 23,
   "metadata": {
    "collapsed": false
   },
   "outputs": [
    {
     "name": "stdout",
     "output_type": "stream",
     "text": [
      "Accuracy:0.74536 \n",
      "\n",
      "Classification report\n",
      "             precision    recall  f1-score   support\n",
      "\n",
      " functional       0.73      0.89      0.80     21188\n",
      "functional needs repair       0.46      0.09      0.16      2873\n",
      "non functional       0.78      0.67      0.72     15143\n",
      "\n",
      "avg / total       0.73      0.75      0.72     39204\n",
      "\n",
      "\n",
      "Confussion matrix\n",
      "[[18805   155  2228]\n",
      " [ 2031   270   572]\n",
      " [ 4840   157 10146]] \n",
      "\n"
     ]
    }
   ],
   "source": [
    "ab = AdaBoostClassifier(n_estimators=500)\n",
    "ab.fit(water_train2, water_target_train_np)\n",
    "ab_predictions=ab.predict(water_train2)\n",
    "print \"Accuracy:{0:.5f}\".format(metrics.accuracy_score(water_target_train_np, ab_predictions)),\"\\n\"\n",
    "print \"Classification report\"\n",
    "print metrics.classification_report(water_target_train_np, ab_predictions),\"\\n\"\n",
    "print \"Confussion matrix\"\n",
    "print metrics.confusion_matrix(water_target_train_np, ab_predictions),\"\\n\""
   ]
  },
  {
   "cell_type": "code",
   "execution_count": 24,
   "metadata": {
    "collapsed": false
   },
   "outputs": [
    {
     "name": "stdout",
     "output_type": "stream",
     "text": [
      "Accuracy:0.74371 \n",
      "\n",
      "Classification report\n",
      "             precision    recall  f1-score   support\n",
      "\n",
      " functional       0.73      0.88      0.80     11071\n",
      "functional needs repair       0.43      0.09      0.15      1444\n",
      "non functional       0.78      0.66      0.72      7681\n",
      "\n",
      "avg / total       0.73      0.74      0.72     20196\n",
      "\n",
      "\n",
      "Confussion matrix\n",
      "[[9791   88 1192]\n",
      " [1047  131  266]\n",
      " [2500   83 5098]] \n",
      "\n"
     ]
    }
   ],
   "source": [
    "ab = AdaBoostClassifier(n_estimators=500)\n",
    "ab.fit(water_train2, water_target_train_np)\n",
    "ab_predictions=ab.predict(water_test2)\n",
    "print \"Accuracy:{0:.5f}\".format(metrics.accuracy_score(water_target_test_np, ab_predictions)),\"\\n\"\n",
    "print \"Classification report\"\n",
    "print metrics.classification_report(water_target_test_np, ab_predictions),\"\\n\"\n",
    "print \"Confussion matrix\"\n",
    "print metrics.confusion_matrix(water_target_test_np, ab_predictions),\"\\n\""
   ]
  },
  {
   "cell_type": "code",
   "execution_count": null,
   "metadata": {
    "collapsed": true
   },
   "outputs": [],
   "source": []
  },
  {
   "cell_type": "code",
   "execution_count": null,
   "metadata": {
    "collapsed": true
   },
   "outputs": [],
   "source": []
  },
  {
   "cell_type": "code",
   "execution_count": 25,
   "metadata": {
    "collapsed": true
   },
   "outputs": [],
   "source": [
    "rf = RandomForestClassifier(criterion='entropy', n_estimators=500)\n",
    "#,max_depth=3,min_samples_split=6, \n",
    "rf.fit(water_train_ssf, water_target_array)\n",
    "rf_predictions=rf.predict(water_test_ssf)"
   ]
  },
  {
   "cell_type": "code",
   "execution_count": 26,
   "metadata": {
    "collapsed": false
   },
   "outputs": [
    {
     "data": {
      "text/plain": [
       "array(['functional', 'functional', 'functional', 'non functional',\n",
       "       'functional'], dtype=object)"
      ]
     },
     "execution_count": 26,
     "metadata": {},
     "output_type": "execute_result"
    }
   ],
   "source": [
    "rf_predictions[:5]"
   ]
  },
  {
   "cell_type": "code",
   "execution_count": 27,
   "metadata": {
    "collapsed": true
   },
   "outputs": [],
   "source": [
    "rf_predictions_pd=pd.DataFrame(rf_predictions)"
   ]
  },
  {
   "cell_type": "code",
   "execution_count": 28,
   "metadata": {
    "collapsed": false
   },
   "outputs": [
    {
     "data": {
      "text/plain": [
       "0    50785\n",
       "1    51630\n",
       "2    17168\n",
       "3    45559\n",
       "4    49871\n",
       "Name: id, dtype: int64"
      ]
     },
     "execution_count": 28,
     "metadata": {},
     "output_type": "execute_result"
    }
   ],
   "source": [
    "water_test_full = pd.read_csv(\"C:\\Datasets\\water_test_data.csv\")#, index_col=0)\n",
    "water_test_id = water_test_full['id']\n",
    "water_test_id.head(5)"
   ]
  },
  {
   "cell_type": "code",
   "execution_count": null,
   "metadata": {
    "collapsed": true
   },
   "outputs": [],
   "source": []
  },
  {
   "cell_type": "code",
   "execution_count": 29,
   "metadata": {
    "collapsed": false
   },
   "outputs": [
    {
     "data": {
      "text/html": [
       "<div>\n",
       "<table border=\"1\" class=\"dataframe\">\n",
       "  <thead>\n",
       "    <tr style=\"text-align: right;\">\n",
       "      <th></th>\n",
       "      <th>id</th>\n",
       "      <th>0</th>\n",
       "    </tr>\n",
       "  </thead>\n",
       "  <tbody>\n",
       "    <tr>\n",
       "      <th>0</th>\n",
       "      <td>50785</td>\n",
       "      <td>functional</td>\n",
       "    </tr>\n",
       "    <tr>\n",
       "      <th>1</th>\n",
       "      <td>51630</td>\n",
       "      <td>functional</td>\n",
       "    </tr>\n",
       "    <tr>\n",
       "      <th>2</th>\n",
       "      <td>17168</td>\n",
       "      <td>functional</td>\n",
       "    </tr>\n",
       "    <tr>\n",
       "      <th>3</th>\n",
       "      <td>45559</td>\n",
       "      <td>non functional</td>\n",
       "    </tr>\n",
       "    <tr>\n",
       "      <th>4</th>\n",
       "      <td>49871</td>\n",
       "      <td>functional</td>\n",
       "    </tr>\n",
       "  </tbody>\n",
       "</table>\n",
       "</div>"
      ],
      "text/plain": [
       "      id               0\n",
       "0  50785      functional\n",
       "1  51630      functional\n",
       "2  17168      functional\n",
       "3  45559  non functional\n",
       "4  49871      functional"
      ]
     },
     "execution_count": 29,
     "metadata": {},
     "output_type": "execute_result"
    }
   ],
   "source": [
    "water_test_predictions=pd.concat([water_test_id, rf_predictions_pd],axis=1)\n",
    "water_test_predictions[:5]"
   ]
  },
  {
   "cell_type": "code",
   "execution_count": 30,
   "metadata": {
    "collapsed": false
   },
   "outputs": [],
   "source": [
    "water_test_predictions.rename(columns={0: 'status_group'}, inplace=True)"
   ]
  },
  {
   "cell_type": "code",
   "execution_count": 31,
   "metadata": {
    "collapsed": false
   },
   "outputs": [
    {
     "data": {
      "text/html": [
       "<div>\n",
       "<table border=\"1\" class=\"dataframe\">\n",
       "  <thead>\n",
       "    <tr style=\"text-align: right;\">\n",
       "      <th></th>\n",
       "      <th>id</th>\n",
       "      <th>status_group</th>\n",
       "    </tr>\n",
       "  </thead>\n",
       "  <tbody>\n",
       "    <tr>\n",
       "      <th>0</th>\n",
       "      <td>50785</td>\n",
       "      <td>functional</td>\n",
       "    </tr>\n",
       "    <tr>\n",
       "      <th>1</th>\n",
       "      <td>51630</td>\n",
       "      <td>functional</td>\n",
       "    </tr>\n",
       "    <tr>\n",
       "      <th>2</th>\n",
       "      <td>17168</td>\n",
       "      <td>functional</td>\n",
       "    </tr>\n",
       "    <tr>\n",
       "      <th>3</th>\n",
       "      <td>45559</td>\n",
       "      <td>non functional</td>\n",
       "    </tr>\n",
       "    <tr>\n",
       "      <th>4</th>\n",
       "      <td>49871</td>\n",
       "      <td>functional</td>\n",
       "    </tr>\n",
       "  </tbody>\n",
       "</table>\n",
       "</div>"
      ],
      "text/plain": [
       "      id    status_group\n",
       "0  50785      functional\n",
       "1  51630      functional\n",
       "2  17168      functional\n",
       "3  45559  non functional\n",
       "4  49871      functional"
      ]
     },
     "execution_count": 31,
     "metadata": {},
     "output_type": "execute_result"
    }
   ],
   "source": [
    "water_test_predictions[:5]"
   ]
  },
  {
   "cell_type": "code",
   "execution_count": 32,
   "metadata": {
    "collapsed": true
   },
   "outputs": [],
   "source": [
    "water_test_predictions.to_csv(\"water_test_predictions.csv\", index=False)"
   ]
  }
 ],
 "metadata": {
  "kernelspec": {
   "display_name": "Python 2",
   "language": "python",
   "name": "python2"
  },
  "language_info": {
   "codemirror_mode": {
    "name": "ipython",
    "version": 2
   },
   "file_extension": ".py",
   "mimetype": "text/x-python",
   "name": "python",
   "nbconvert_exporter": "python",
   "pygments_lexer": "ipython2",
   "version": "2.7.10"
  }
 },
 "nbformat": 4,
 "nbformat_minor": 0
}
