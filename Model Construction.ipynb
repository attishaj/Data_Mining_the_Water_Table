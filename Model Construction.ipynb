{
 "cells": [
  {
   "cell_type": "code",
   "execution_count": 1,
   "metadata": {
    "collapsed": true
   },
   "outputs": [],
   "source": [
    "import pandas as pd\n",
    "import numpy as np\n",
    "import pylab as pl\n",
    "import matplotlib.pyplot as plt\n",
    "%matplotlib inline\n",
    "from pandas.tools.plotting import scatter_matrix\n",
    "from sklearn.cross_validation import train_test_split\n",
    "from sklearn import cross_validation\n",
    "from sklearn import metrics\n",
    "from sklearn import preprocessing\n",
    "from sklearn.grid_search import GridSearchCV\n",
    "from sklearn import neighbors, tree, naive_bayes\n",
    "from sklearn.lda import LDA\n",
    "from sklearn.ensemble import RandomForestClassifier\n",
    "from sklearn.ensemble import AdaBoostClassifier\n",
    "from sklearn.ensemble import ExtraTreesClassifier\n",
    "from sklearn import decomposition\n",
    "from datetime import datetime"
   ]
  },
  {
   "cell_type": "code",
   "execution_count": 3,
   "metadata": {
    "collapsed": true
   },
   "outputs": [],
   "source": [
    "#load data\n",
    "water_train = pd.read_csv(\"C:\\Datasets\\water_train.csv\")#, index_col=0)\n",
    "water_test = pd.read_csv(\"C:\\Datasets\\water_test.csv\")#, index_col=0)\n",
    "water_records_trans2 = pd.read_csv(\"C:\\Datasets\\water_records_trans2.csv\")#, index_col=0)\n",
    "watertest_records_trans2 = pd.read_csv(\"C:\\Datasets\\watertest_records_trans2.csv\")#, index_col=0)\n",
    "water_target = pd.read_csv(\"C:\\Datasets\\water_training_labels.csv\")\n",
    "water_target = water_target.drop('id', 1)"
   ]
  },
  {
   "cell_type": "code",
   "execution_count": 9,
   "metadata": {
    "collapsed": true
   },
   "outputs": [],
   "source": [
    "#class distribution\n",
    "#functional: 32259/59400 (54.308%)\n",
    "#non-functional: 22824/59400 (38.424%)\n",
    "#func needs repair: 4317/59400 (7.268%)"
   ]
  },
  {
   "cell_type": "code",
   "execution_count": 29,
   "metadata": {
    "collapsed": true
   },
   "outputs": [],
   "source": [
    "water_train_ssf=pd.get_dummies(water_train)\n",
    "water_test_ssf=pd.get_dummies(water_test)"
   ]
  },
  {
   "cell_type": "code",
   "execution_count": 12,
   "metadata": {
    "collapsed": false
   },
   "outputs": [
    {
     "data": {
      "text/plain": [
       "array(['functional', 'functional', 'functional', ..., 'functional',\n",
       "       'functional', 'functional'], dtype=object)"
      ]
     },
     "execution_count": 12,
     "metadata": {},
     "output_type": "execute_result"
    }
   ],
   "source": [
    "water_target_array=np.array(water_target)\n",
    "water_target_array=water_target_array.squeeze()\n",
    "water_target_array"
   ]
  },
  {
   "cell_type": "code",
   "execution_count": null,
   "metadata": {
    "collapsed": true
   },
   "outputs": [],
   "source": [
    "#Model Construction"
   ]
  },
  {
   "cell_type": "code",
   "execution_count": 13,
   "metadata": {
    "collapsed": false
   },
   "outputs": [
    {
     "name": "stdout",
     "output_type": "stream",
     "text": [
      "(39204, 225) (20196, 225) (39204L,) (20196L,)\n"
     ]
    }
   ],
   "source": [
    "water_train2, water_test2, water_target_train, water_target_test = train_test_split(water_train_ssf, water_target_array, test_size=0.34)\n",
    "print water_train2.shape, water_test2.shape, water_target_train.shape, water_target_test.shape \n",
    "#water_train2, water_test2, water_target_train, water_target_test = train_test_split(water_records_trans2, water_target, test_size=0.34)\n",
    "#print water_train2.shape, water_test2.shape, water_target_train.shape, water_target_test.shape \n"
   ]
  },
  {
   "cell_type": "code",
   "execution_count": 14,
   "metadata": {
    "collapsed": false
   },
   "outputs": [
    {
     "data": {
      "text/html": [
       "<div>\n",
       "<table border=\"1\" class=\"dataframe\">\n",
       "  <thead>\n",
       "    <tr style=\"text-align: right;\">\n",
       "      <th></th>\n",
       "      <th>amount_tsh</th>\n",
       "      <th>gps_height</th>\n",
       "      <th>longitude</th>\n",
       "      <th>latitude</th>\n",
       "      <th>population</th>\n",
       "      <th>days_frm_20131213</th>\n",
       "      <th>Month_Recorded</th>\n",
       "      <th>funder_0</th>\n",
       "      <th>funder_Danida</th>\n",
       "      <th>funder_Dhv</th>\n",
       "      <th>...</th>\n",
       "      <th>Construction_Year_Str_2004</th>\n",
       "      <th>Construction_Year_Str_2005</th>\n",
       "      <th>Construction_Year_Str_2006</th>\n",
       "      <th>Construction_Year_Str_2007</th>\n",
       "      <th>Construction_Year_Str_2008</th>\n",
       "      <th>Construction_Year_Str_2009</th>\n",
       "      <th>Construction_Year_Str_2010</th>\n",
       "      <th>Construction_Year_Str_2011</th>\n",
       "      <th>Construction_Year_Str_2012</th>\n",
       "      <th>Construction_Year_Str_Other</th>\n",
       "    </tr>\n",
       "  </thead>\n",
       "  <tbody>\n",
       "    <tr>\n",
       "      <th>35799</th>\n",
       "      <td>0</td>\n",
       "      <td>0</td>\n",
       "      <td>31.768048</td>\n",
       "      <td>-3.028071</td>\n",
       "      <td>0</td>\n",
       "      <td>876</td>\n",
       "      <td>7</td>\n",
       "      <td>0</td>\n",
       "      <td>0</td>\n",
       "      <td>0</td>\n",
       "      <td>...</td>\n",
       "      <td>0</td>\n",
       "      <td>0</td>\n",
       "      <td>0</td>\n",
       "      <td>0</td>\n",
       "      <td>0</td>\n",
       "      <td>0</td>\n",
       "      <td>0</td>\n",
       "      <td>0</td>\n",
       "      <td>0</td>\n",
       "      <td>1</td>\n",
       "    </tr>\n",
       "    <tr>\n",
       "      <th>14050</th>\n",
       "      <td>1000</td>\n",
       "      <td>331</td>\n",
       "      <td>37.528171</td>\n",
       "      <td>-6.436614</td>\n",
       "      <td>90</td>\n",
       "      <td>1017</td>\n",
       "      <td>3</td>\n",
       "      <td>0</td>\n",
       "      <td>0</td>\n",
       "      <td>0</td>\n",
       "      <td>...</td>\n",
       "      <td>0</td>\n",
       "      <td>0</td>\n",
       "      <td>0</td>\n",
       "      <td>0</td>\n",
       "      <td>0</td>\n",
       "      <td>0</td>\n",
       "      <td>0</td>\n",
       "      <td>0</td>\n",
       "      <td>0</td>\n",
       "      <td>1</td>\n",
       "    </tr>\n",
       "    <tr>\n",
       "      <th>38958</th>\n",
       "      <td>0</td>\n",
       "      <td>0</td>\n",
       "      <td>31.923172</td>\n",
       "      <td>-3.477988</td>\n",
       "      <td>0</td>\n",
       "      <td>436</td>\n",
       "      <td>10</td>\n",
       "      <td>0</td>\n",
       "      <td>0</td>\n",
       "      <td>0</td>\n",
       "      <td>...</td>\n",
       "      <td>0</td>\n",
       "      <td>0</td>\n",
       "      <td>0</td>\n",
       "      <td>0</td>\n",
       "      <td>0</td>\n",
       "      <td>0</td>\n",
       "      <td>0</td>\n",
       "      <td>0</td>\n",
       "      <td>0</td>\n",
       "      <td>1</td>\n",
       "    </tr>\n",
       "    <tr>\n",
       "      <th>27802</th>\n",
       "      <td>0</td>\n",
       "      <td>2199</td>\n",
       "      <td>31.846868</td>\n",
       "      <td>-8.108498</td>\n",
       "      <td>500</td>\n",
       "      <td>840</td>\n",
       "      <td>8</td>\n",
       "      <td>0</td>\n",
       "      <td>0</td>\n",
       "      <td>0</td>\n",
       "      <td>...</td>\n",
       "      <td>0</td>\n",
       "      <td>0</td>\n",
       "      <td>0</td>\n",
       "      <td>0</td>\n",
       "      <td>0</td>\n",
       "      <td>0</td>\n",
       "      <td>0</td>\n",
       "      <td>0</td>\n",
       "      <td>0</td>\n",
       "      <td>1</td>\n",
       "    </tr>\n",
       "    <tr>\n",
       "      <th>41099</th>\n",
       "      <td>0</td>\n",
       "      <td>0</td>\n",
       "      <td>32.611978</td>\n",
       "      <td>-2.596000</td>\n",
       "      <td>0</td>\n",
       "      <td>880</td>\n",
       "      <td>7</td>\n",
       "      <td>0</td>\n",
       "      <td>0</td>\n",
       "      <td>0</td>\n",
       "      <td>...</td>\n",
       "      <td>0</td>\n",
       "      <td>0</td>\n",
       "      <td>0</td>\n",
       "      <td>0</td>\n",
       "      <td>0</td>\n",
       "      <td>0</td>\n",
       "      <td>0</td>\n",
       "      <td>0</td>\n",
       "      <td>0</td>\n",
       "      <td>1</td>\n",
       "    </tr>\n",
       "  </tbody>\n",
       "</table>\n",
       "<p>5 rows × 225 columns</p>\n",
       "</div>"
      ],
      "text/plain": [
       "       amount_tsh  gps_height  longitude  latitude  population  \\\n",
       "35799           0           0  31.768048 -3.028071           0   \n",
       "14050        1000         331  37.528171 -6.436614          90   \n",
       "38958           0           0  31.923172 -3.477988           0   \n",
       "27802           0        2199  31.846868 -8.108498         500   \n",
       "41099           0           0  32.611978 -2.596000           0   \n",
       "\n",
       "       days_frm_20131213  Month_Recorded  funder_0  funder_Danida  funder_Dhv  \\\n",
       "35799                876               7         0              0           0   \n",
       "14050               1017               3         0              0           0   \n",
       "38958                436              10         0              0           0   \n",
       "27802                840               8         0              0           0   \n",
       "41099                880               7         0              0           0   \n",
       "\n",
       "                  ...               Construction_Year_Str_2004  \\\n",
       "35799             ...                                        0   \n",
       "14050             ...                                        0   \n",
       "38958             ...                                        0   \n",
       "27802             ...                                        0   \n",
       "41099             ...                                        0   \n",
       "\n",
       "       Construction_Year_Str_2005  Construction_Year_Str_2006  \\\n",
       "35799                           0                           0   \n",
       "14050                           0                           0   \n",
       "38958                           0                           0   \n",
       "27802                           0                           0   \n",
       "41099                           0                           0   \n",
       "\n",
       "       Construction_Year_Str_2007  Construction_Year_Str_2008  \\\n",
       "35799                           0                           0   \n",
       "14050                           0                           0   \n",
       "38958                           0                           0   \n",
       "27802                           0                           0   \n",
       "41099                           0                           0   \n",
       "\n",
       "       Construction_Year_Str_2009  Construction_Year_Str_2010  \\\n",
       "35799                           0                           0   \n",
       "14050                           0                           0   \n",
       "38958                           0                           0   \n",
       "27802                           0                           0   \n",
       "41099                           0                           0   \n",
       "\n",
       "       Construction_Year_Str_2011  Construction_Year_Str_2012  \\\n",
       "35799                           0                           0   \n",
       "14050                           0                           0   \n",
       "38958                           0                           0   \n",
       "27802                           0                           0   \n",
       "41099                           0                           0   \n",
       "\n",
       "       Construction_Year_Str_Other  \n",
       "35799                            1  \n",
       "14050                            1  \n",
       "38958                            1  \n",
       "27802                            1  \n",
       "41099                            1  \n",
       "\n",
       "[5 rows x 225 columns]"
      ]
     },
     "execution_count": 14,
     "metadata": {},
     "output_type": "execute_result"
    }
   ],
   "source": [
    "water_train2.head(5)"
   ]
  },
  {
   "cell_type": "code",
   "execution_count": 15,
   "metadata": {
    "collapsed": false
   },
   "outputs": [
    {
     "data": {
      "text/plain": [
       "(39204L,)"
      ]
     },
     "execution_count": 15,
     "metadata": {},
     "output_type": "execute_result"
    }
   ],
   "source": [
    "water_target_train_np=np.array(water_target_train)\n",
    "water_target_train_np=np.squeeze(water_target_train_np)\n",
    "water_target_train_np.shape"
   ]
  },
  {
   "cell_type": "code",
   "execution_count": 16,
   "metadata": {
    "collapsed": false
   },
   "outputs": [
    {
     "data": {
      "text/plain": [
       "array(['functional', 'functional', 'functional', ..., 'non functional',\n",
       "       'functional', 'functional'], dtype=object)"
      ]
     },
     "execution_count": 16,
     "metadata": {},
     "output_type": "execute_result"
    }
   ],
   "source": [
    "water_target_train_np"
   ]
  },
  {
   "cell_type": "code",
   "execution_count": 17,
   "metadata": {
    "collapsed": false
   },
   "outputs": [
    {
     "data": {
      "text/plain": [
       "(20196L,)"
      ]
     },
     "execution_count": 17,
     "metadata": {},
     "output_type": "execute_result"
    }
   ],
   "source": [
    "water_target_test_np=np.array(water_target_test)\n",
    "water_target_test_np=np.squeeze(water_target_test_np)\n",
    "water_target_test_np.shape"
   ]
  },
  {
   "cell_type": "code",
   "execution_count": 18,
   "metadata": {
    "collapsed": true
   },
   "outputs": [],
   "source": [
    "#random forest\n",
    "#Grid search using Random Forest\n",
    "rf = RandomForestClassifier()\n",
    "#rf.get_params()"
   ]
  },
  {
   "cell_type": "code",
   "execution_count": 19,
   "metadata": {
    "collapsed": false
   },
   "outputs": [],
   "source": [
    "#    'criterion': ['entropy', 'gini'],\n",
    "\n",
    "rfparameters = {\n",
    "    'n_estimators': range(500, 501, 5)\n",
    "}\n",
    "#    'max_depth': np.linspace(1, 20, 10),\n",
    "#    'min_samples_split': np.linspace(2, 20, 10)\n",
    "#}\n",
    "\n",
    "rf_gs = GridSearchCV(rf, rfparameters, verbose=1, cv=10)"
   ]
  },
  {
   "cell_type": "code",
   "execution_count": 20,
   "metadata": {
    "collapsed": false
   },
   "outputs": [],
   "source": [
    "#%time _ = rf_gs.fit(water_ssf, water_target_np)\n",
    "#rf_gs.best_params_, rf_gs.best_score_"
   ]
  },
  {
   "cell_type": "code",
   "execution_count": 21,
   "metadata": {
    "collapsed": false
   },
   "outputs": [
    {
     "name": "stdout",
     "output_type": "stream",
     "text": [
      "Accuracy:0.99885 \n",
      "\n",
      "Classification report\n",
      "             precision    recall  f1-score   support\n",
      "\n",
      " functional       1.00      1.00      1.00     21268\n",
      "functional needs repair       1.00      0.99      0.99      2814\n",
      "non functional       1.00      1.00      1.00     15122\n",
      "\n",
      "avg / total       1.00      1.00      1.00     39204\n",
      "\n",
      "\n",
      "Confussion matrix\n",
      "[[21257     9     2]\n",
      " [   23  2789     2]\n",
      " [    7     2 15113]] \n",
      "\n"
     ]
    }
   ],
   "source": [
    "rf = RandomForestClassifier(criterion=\"entropy\", n_estimators=500)\n",
    "#criterion='entropy',max_depth=3,min_samples_split=6, \n",
    "rf.fit(water_train2, water_target_train_np)\n",
    "rf_predictions=rf.predict(water_train2)\n",
    "print \"Accuracy:{0:.5f}\".format(metrics.accuracy_score(water_target_train_np, rf_predictions)),\"\\n\"\n",
    "print \"Classification report\"\n",
    "print metrics.classification_report(water_target_train_np, rf_predictions),\"\\n\"\n",
    "print \"Confussion matrix\"\n",
    "print metrics.confusion_matrix(water_target_train_np, rf_predictions),\"\\n\""
   ]
  },
  {
   "cell_type": "code",
   "execution_count": 22,
   "metadata": {
    "collapsed": false
   },
   "outputs": [
    {
     "name": "stdout",
     "output_type": "stream",
     "text": [
      "Accuracy:0.80120 \n",
      "\n",
      "Classification report\n",
      "             precision    recall  f1-score   support\n",
      "\n",
      " functional       0.81      0.88      0.84     10991\n",
      "functional needs repair       0.53      0.35      0.42      1503\n",
      "non functional       0.83      0.78      0.80      7702\n",
      "\n",
      "avg / total       0.79      0.80      0.80     20196\n",
      "\n",
      "\n",
      "Confussion matrix\n",
      "[[9637  333 1021]\n",
      " [ 743  520  240]\n",
      " [1543  135 6024]] \n",
      "\n"
     ]
    }
   ],
   "source": [
    "rf = RandomForestClassifier(criterion='entropy', n_estimators=500)\n",
    "#,max_depth=3,min_samples_split=6, \n",
    "rf.fit(water_train2, water_target_train_np)\n",
    "rf_predictions=rf.predict(water_test2)\n",
    "print \"Accuracy:{0:.5f}\".format(metrics.accuracy_score(water_target_test_np, rf_predictions)),\"\\n\"\n",
    "print \"Classification report\"\n",
    "print metrics.classification_report(water_target_test_np, rf_predictions),\"\\n\"\n",
    "print \"Confussion matrix\"\n",
    "print metrics.confusion_matrix(water_target_test_np, rf_predictions),\"\\n\""
   ]
  },
  {
   "cell_type": "code",
   "execution_count": 30,
   "metadata": {
    "collapsed": true
   },
   "outputs": [],
   "source": [
    "rf = RandomForestClassifier(criterion='entropy', n_estimators=500)\n",
    "#,max_depth=3,min_samples_split=6, \n",
    "rf.fit(water_train_ssf, water_target_array)\n",
    "rf_predictions=rf.predict(water_test_ssf)"
   ]
  },
  {
   "cell_type": "code",
   "execution_count": 34,
   "metadata": {
    "collapsed": false
   },
   "outputs": [
    {
     "data": {
      "text/plain": [
       "array(['functional', 'functional', 'functional', 'non functional',\n",
       "       'functional'], dtype=object)"
      ]
     },
     "execution_count": 34,
     "metadata": {},
     "output_type": "execute_result"
    }
   ],
   "source": [
    "rf_predictions[:5]"
   ]
  },
  {
   "cell_type": "code",
   "execution_count": 39,
   "metadata": {
    "collapsed": true
   },
   "outputs": [],
   "source": [
    "rf_predictions_pd=pd.DataFrame(rf_predictions)"
   ]
  },
  {
   "cell_type": "code",
   "execution_count": 38,
   "metadata": {
    "collapsed": false
   },
   "outputs": [
    {
     "data": {
      "text/plain": [
       "0    50785\n",
       "1    51630\n",
       "2    17168\n",
       "3    45559\n",
       "4    49871\n",
       "Name: id, dtype: int64"
      ]
     },
     "execution_count": 38,
     "metadata": {},
     "output_type": "execute_result"
    }
   ],
   "source": [
    "water_test_full = pd.read_csv(\"C:\\Datasets\\water_test_data.csv\")#, index_col=0)\n",
    "water_test_id = water_test_full['id']\n",
    "water_test_id.head(5)"
   ]
  },
  {
   "cell_type": "code",
   "execution_count": null,
   "metadata": {
    "collapsed": true
   },
   "outputs": [],
   "source": []
  },
  {
   "cell_type": "code",
   "execution_count": 52,
   "metadata": {
    "collapsed": false
   },
   "outputs": [
    {
     "data": {
      "text/html": [
       "<div>\n",
       "<table border=\"1\" class=\"dataframe\">\n",
       "  <thead>\n",
       "    <tr style=\"text-align: right;\">\n",
       "      <th></th>\n",
       "      <th>id</th>\n",
       "      <th>0</th>\n",
       "    </tr>\n",
       "  </thead>\n",
       "  <tbody>\n",
       "    <tr>\n",
       "      <th>0</th>\n",
       "      <td>50785</td>\n",
       "      <td>functional</td>\n",
       "    </tr>\n",
       "    <tr>\n",
       "      <th>1</th>\n",
       "      <td>51630</td>\n",
       "      <td>functional</td>\n",
       "    </tr>\n",
       "    <tr>\n",
       "      <th>2</th>\n",
       "      <td>17168</td>\n",
       "      <td>functional</td>\n",
       "    </tr>\n",
       "    <tr>\n",
       "      <th>3</th>\n",
       "      <td>45559</td>\n",
       "      <td>non functional</td>\n",
       "    </tr>\n",
       "    <tr>\n",
       "      <th>4</th>\n",
       "      <td>49871</td>\n",
       "      <td>functional</td>\n",
       "    </tr>\n",
       "  </tbody>\n",
       "</table>\n",
       "</div>"
      ],
      "text/plain": [
       "      id               0\n",
       "0  50785      functional\n",
       "1  51630      functional\n",
       "2  17168      functional\n",
       "3  45559  non functional\n",
       "4  49871      functional"
      ]
     },
     "execution_count": 52,
     "metadata": {},
     "output_type": "execute_result"
    }
   ],
   "source": [
    "water_test_predictions=pd.concat([water_test_id, rf_predictions_pd],axis=1)\n",
    "water_test_predictions[:5]"
   ]
  },
  {
   "cell_type": "code",
   "execution_count": 53,
   "metadata": {
    "collapsed": false
   },
   "outputs": [],
   "source": [
    "water_test_predictions.rename(columns={0: 'status_group'}, inplace=True)"
   ]
  },
  {
   "cell_type": "code",
   "execution_count": 54,
   "metadata": {
    "collapsed": false
   },
   "outputs": [
    {
     "data": {
      "text/html": [
       "<div>\n",
       "<table border=\"1\" class=\"dataframe\">\n",
       "  <thead>\n",
       "    <tr style=\"text-align: right;\">\n",
       "      <th></th>\n",
       "      <th>id</th>\n",
       "      <th>status_group</th>\n",
       "    </tr>\n",
       "  </thead>\n",
       "  <tbody>\n",
       "    <tr>\n",
       "      <th>0</th>\n",
       "      <td>50785</td>\n",
       "      <td>functional</td>\n",
       "    </tr>\n",
       "    <tr>\n",
       "      <th>1</th>\n",
       "      <td>51630</td>\n",
       "      <td>functional</td>\n",
       "    </tr>\n",
       "    <tr>\n",
       "      <th>2</th>\n",
       "      <td>17168</td>\n",
       "      <td>functional</td>\n",
       "    </tr>\n",
       "    <tr>\n",
       "      <th>3</th>\n",
       "      <td>45559</td>\n",
       "      <td>non functional</td>\n",
       "    </tr>\n",
       "    <tr>\n",
       "      <th>4</th>\n",
       "      <td>49871</td>\n",
       "      <td>functional</td>\n",
       "    </tr>\n",
       "  </tbody>\n",
       "</table>\n",
       "</div>"
      ],
      "text/plain": [
       "      id    status_group\n",
       "0  50785      functional\n",
       "1  51630      functional\n",
       "2  17168      functional\n",
       "3  45559  non functional\n",
       "4  49871      functional"
      ]
     },
     "execution_count": 54,
     "metadata": {},
     "output_type": "execute_result"
    }
   ],
   "source": [
    "water_test_predictions[:5]"
   ]
  },
  {
   "cell_type": "code",
   "execution_count": 56,
   "metadata": {
    "collapsed": true
   },
   "outputs": [],
   "source": [
    "water_test_predictions.to_csv(\"water_test_predictions.csv\", index=False)"
   ]
  }
 ],
 "metadata": {
  "kernelspec": {
   "display_name": "Python 2",
   "language": "python",
   "name": "python2"
  },
  "language_info": {
   "codemirror_mode": {
    "name": "ipython",
    "version": 2
   },
   "file_extension": ".py",
   "mimetype": "text/x-python",
   "name": "python",
   "nbconvert_exporter": "python",
   "pygments_lexer": "ipython2",
   "version": "2.7.10"
  }
 },
 "nbformat": 4,
 "nbformat_minor": 0
}
